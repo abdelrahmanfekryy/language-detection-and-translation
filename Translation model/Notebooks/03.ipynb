{
 "cells": [
  {
   "cell_type": "code",
   "execution_count": 8,
   "metadata": {},
   "outputs": [],
   "source": [
    "import tensorflow as tf\n",
    "import dill\n",
    "import sys\n",
    "sys.path.append(\"..\")\n",
    "\n",
    "from utils.helper import *"
   ]
  },
  {
   "cell_type": "code",
   "execution_count": 9,
   "metadata": {},
   "outputs": [],
   "source": [
    "with open(f\"../Models/AR.pkl\", 'rb') as file:\n",
    "    AR = dill.load(file)\n",
    "\n",
    "with open(f\"../Models/EN.pkl\", 'rb') as file:\n",
    "    EN = dill.load(file)"
   ]
  },
  {
   "cell_type": "code",
   "execution_count": 10,
   "metadata": {},
   "outputs": [],
   "source": [
    "with open(\"../Models/encoder.json\", \"r\") as file:\n",
    "    encoder_json = file.read()\n",
    "\n",
    "# Create an instance of your subclassed model\n",
    "encoder = tf.keras.models.model_from_json(encoder_json, custom_objects={'Encoder': Encoder})\n",
    "\n",
    "encoder(tf.zeros((64, 1)),tf.zeros((64, 1024)))\n",
    "# Load the model's weights\n",
    "encoder.load_weights(\"../Models/encoder_en2ar.h5\")"
   ]
  },
  {
   "cell_type": "code",
   "execution_count": 11,
   "metadata": {},
   "outputs": [],
   "source": [
    "with open(\"../Models/decoder.json\", \"r\") as file:\n",
    "    decoder_json = file.read()\n",
    "\n",
    "# Create an instance of your subclassed model\n",
    "decoder = tf.keras.models.model_from_json(decoder_json, custom_objects={'Decoder': Decoder})\n",
    "\n",
    "decoder(tf.zeros((64, 1)),tf.zeros((64, 1024)),tf.zeros((64, 1, 1024)))\n",
    "# Load the model's weights\n",
    "decoder.load_weights(\"../Models/decoder_en2ar.h5\")"
   ]
  },
  {
   "cell_type": "code",
   "execution_count": 12,
   "metadata": {},
   "outputs": [],
   "source": [
    "def evaluate(sentence, encoder, decoder):\n",
    "    # attention_plot = np.zeros((max_length_targ, max_length_inp))\n",
    "    \n",
    "    sentence = preprocess_sentence(sentence,\"en\")\n",
    "\n",
    "    # inputs = [inp_lang.word2idx[i] for i in sentence.split(' ')]\n",
    "    inputs = EN.texts_to_sequences([sentence])[0]\n",
    "    inputs = tf.keras.preprocessing.sequence.pad_sequences([inputs], maxlen=EN.maxlen, padding='post')\n",
    "    inputs = tf.convert_to_tensor(inputs)\n",
    "    \n",
    "    result = ''\n",
    "\n",
    "    hidden = [tf.zeros((1, 1024))]\n",
    "    enc_out, enc_hidden = encoder(inputs, hidden)\n",
    "\n",
    "    dec_hidden = enc_hidden\n",
    "    dec_input = tf.expand_dims([AR.word2idx['<start>']], 0)\n",
    "\n",
    "    for t in range(AR.maxlen):\n",
    "        predictions, dec_hidden, attention_weights = decoder(dec_input, dec_hidden, enc_out)\n",
    "\n",
    "        predicted_id = tf.random.categorical(tf.exp(predictions), num_samples=1)[0][0].numpy()\n",
    "\n",
    "        result += AR.idx2word[predicted_id] + ' '\n",
    "\n",
    "        if AR.idx2word[predicted_id] == '<end>':\n",
    "            return result, sentence \n",
    "        \n",
    "        dec_input = tf.expand_dims([predicted_id], 0)\n",
    "\n",
    "    return result, sentence "
   ]
  },
  {
   "cell_type": "code",
   "execution_count": 13,
   "metadata": {},
   "outputs": [
    {
     "data": {
      "text/plain": [
       "('اهلا لمزيد من كندا . <end> ', '<start> hello people <end>')"
      ]
     },
     "execution_count": 13,
     "metadata": {},
     "output_type": "execute_result"
    }
   ],
   "source": [
    "evaluate(\"hello people\", encoder, decoder)"
   ]
  }
 ],
 "metadata": {
  "kernelspec": {
   "display_name": "Python 3",
   "language": "python",
   "name": "python3"
  },
  "language_info": {
   "codemirror_mode": {
    "name": "ipython",
    "version": 3
   },
   "file_extension": ".py",
   "mimetype": "text/x-python",
   "name": "python",
   "nbconvert_exporter": "python",
   "pygments_lexer": "ipython3",
   "version": "3.8.0"
  },
  "orig_nbformat": 4
 },
 "nbformat": 4,
 "nbformat_minor": 2
}
